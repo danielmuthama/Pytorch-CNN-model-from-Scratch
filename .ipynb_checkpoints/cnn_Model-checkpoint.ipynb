{
 "cells": [
  {
   "cell_type": "markdown",
   "metadata": {
    "id": "4FsE5y_gEnRf"
   },
   "source": [
    "#1 - Fully Connected Network from scratch\n"
   ]
  },
  {
   "cell_type": "markdown",
   "metadata": {
    "id": "tvL54_1lE90d"
   },
   "source": [
    "## 1.1 Loading the FashionMNIST dataset"
   ]
  },
  {
   "cell_type": "markdown",
   "metadata": {
    "id": "A9NP4MhmL5J4"
   },
   "source": [
    "### Download the dataset"
   ]
  },
  {
   "cell_type": "markdown",
   "metadata": {
    "id": "-7gDPPpiFPJ1"
   },
   "source": [
    "The source comes from Fashion-MNIST <https://github.com/zalandoresearch/fashion-mnist>\n",
    "\n",
    "Note: If dataset is already downloaded, it is not downloaded again."
   ]
  },
  {
   "cell_type": "code",
   "execution_count": null,
   "metadata": {
    "id": "TaYZl2wcCZuN"
   },
   "outputs": [],
   "source": [
    "import torchvision\n",
    "\n",
    "transform = torchvision.transforms.Compose(\n",
    "    [torchvision.transforms.ToTensor(), torchvision.transforms.Normalize(\n",
    "        (0.5,0.5,0.5), (0.5,0.5,0.5))])\n",
    "trainset = torchvision.datasets.FashionMNIST(root='./data', train=True, \n",
    "                                             download=True, transform=transform)\n",
    "testset = torchvision.datasets.FashionMNIST(root='./data', train=False, \n",
    "                                            download=True, transform=transform)\n"
   ]
  },
  {
   "cell_type": "markdown",
   "metadata": {
    "id": "OSSsZe2ZF69l"
   },
   "source": [
    "### Pre-processing the dataset"
   ]
  },
  {
   "cell_type": "markdown",
   "metadata": {
    "id": "3nHk-R_EMGZt"
   },
   "source": [
    "Get the training dataset."
   ]
  },
  {
   "cell_type": "code",
   "execution_count": null,
   "metadata": {
    "colab": {
     "base_uri": "https://localhost:8080/",
     "height": 34
    },
    "id": "7AaeEVHxLPZU",
    "outputId": "d859f54e-7a14-43fd-84ee-27c33b8c9b8f"
   },
   "outputs": [
    {
     "name": "stdout",
     "output_type": "stream",
     "text": [
      "torch.Size([60000, 28, 28])\n"
     ]
    }
   ],
   "source": [
    "X_train = trainset.data\n",
    "print(X_train.shape)"
   ]
  },
  {
   "cell_type": "markdown",
   "metadata": {
    "id": "9ktWWEmULnXr"
   },
   "source": [
    "Flatten (60000,28,28) size of X_train into (784,60000) size of matrix.\n",
    "\n",
    "Also, normalize each pixel value to between 0 and 1."
   ]
  },
  {
   "cell_type": "code",
   "execution_count": null,
   "metadata": {
    "colab": {
     "base_uri": "https://localhost:8080/",
     "height": 34
    },
    "id": "4sCCwBqJOLHN",
    "outputId": "0ab6afca-910c-435a-f9d1-4656fb53149a"
   },
   "outputs": [
    {
     "name": "stdout",
     "output_type": "stream",
     "text": [
      "torch.Size([784, 60000])\n"
     ]
    }
   ],
   "source": [
    "import numpy as np\n",
    "X_train = X_train.reshape(X_train.shape[0], -1).T / 255.0\n",
    "print(X_train.shape)"
   ]
  },
  {
   "cell_type": "markdown",
   "metadata": {
    "id": "CCv81qMuOkZe"
   },
   "source": [
    "Get the testing dataset"
   ]
  },
  {
   "cell_type": "code",
   "execution_count": null,
   "metadata": {
    "colab": {
     "base_uri": "https://localhost:8080/",
     "height": 34
    },
    "id": "gTGvZL9jRajV",
    "outputId": "d1505072-8e92-49a0-96bb-b6dc1ff70916"
   },
   "outputs": [
    {
     "name": "stdout",
     "output_type": "stream",
     "text": [
      "torch.Size([10000, 28, 28])\n"
     ]
    }
   ],
   "source": [
    "X_test = testset.data\n",
    "print(X_test.shape)"
   ]
  },
  {
   "cell_type": "markdown",
   "metadata": {
    "id": "oiWsaNFoRdHY"
   },
   "source": [
    "Flatten (10000,28,28) size of X_test into (784,10000) size of matrix.\n",
    "\n",
    "Also, normalize each pixel value to between 0 and 1."
   ]
  },
  {
   "cell_type": "code",
   "execution_count": null,
   "metadata": {
    "colab": {
     "base_uri": "https://localhost:8080/",
     "height": 34
    },
    "id": "AZS7PWL7Rhip",
    "outputId": "7a42a3f4-d4a0-495c-a31d-eb8160f87967"
   },
   "outputs": [
    {
     "name": "stdout",
     "output_type": "stream",
     "text": [
      "torch.Size([784, 10000])\n"
     ]
    }
   ],
   "source": [
    "X_test = X_test.reshape(X_test.shape[0], -1).T / 255.0\n",
    "print(X_test.shape)"
   ]
  },
  {
   "cell_type": "markdown",
   "metadata": {
    "id": "PqvKO3gSRpLQ"
   },
   "source": [
    "Get the label from training dataset."
   ]
  },
  {
   "cell_type": "code",
   "execution_count": null,
   "metadata": {
    "colab": {
     "base_uri": "https://localhost:8080/",
     "height": 34
    },
    "id": "FXLX9N_qR1AA",
    "outputId": "682e4678-2d41-4b10-c8ec-7c29fb21fa52"
   },
   "outputs": [
    {
     "name": "stdout",
     "output_type": "stream",
     "text": [
      "tensor([9, 0, 0,  ..., 3, 0, 5])\n"
     ]
    }
   ],
   "source": [
    "y_train = trainset.targets\n",
    "print(y_train)"
   ]
  },
  {
   "cell_type": "markdown",
   "metadata": {
    "id": "NZtw2A5hR5VI"
   },
   "source": [
    "Transfer training label from tensor to numpy."
   ]
  },
  {
   "cell_type": "code",
   "execution_count": null,
   "metadata": {
    "colab": {
     "base_uri": "https://localhost:8080/",
     "height": 34
    },
    "id": "N2xwNrdnSEbP",
    "outputId": "cd82d50c-9907-411d-9f86-1df8dd4643c8"
   },
   "outputs": [
    {
     "name": "stdout",
     "output_type": "stream",
     "text": [
      "(60000,)\n"
     ]
    }
   ],
   "source": [
    "y_train = np.reshape(np.asarray(y_train), (60000,))\n",
    "print(y_train.shape)"
   ]
  },
  {
   "cell_type": "markdown",
   "metadata": {
    "id": "eK3nS4idSX2Q"
   },
   "source": [
    "Get the label from testing dataset.\n",
    "\n",
    "And, transfer it into numpy."
   ]
  },
  {
   "cell_type": "code",
   "execution_count": null,
   "metadata": {
    "colab": {
     "base_uri": "https://localhost:8080/",
     "height": 34
    },
    "id": "C1hhds9jSgp5",
    "outputId": "3925b72f-b14f-4c22-f7ef-dd4bd5ee9737"
   },
   "outputs": [
    {
     "name": "stdout",
     "output_type": "stream",
     "text": [
      "(10000,)\n"
     ]
    }
   ],
   "source": [
    "y_test = testset.targets\n",
    "y_test = np.reshape(np.asarray(y_test), (10000,))\n",
    "print(y_test.shape)"
   ]
  },
  {
   "cell_type": "markdown",
   "metadata": {
    "id": "L2_OrGwBSoaG"
   },
   "source": [
    "This is the label class:"
   ]
  },
  {
   "cell_type": "code",
   "execution_count": null,
   "metadata": {
    "id": "y9-OMTYXSsug"
   },
   "outputs": [],
   "source": [
    "label = ('T-shirt/top', 'Trouser', 'Pullover', 'Dress', 'Coat',\n",
    "        'Sandal', 'Shirt', 'Sneaker', 'Bag', 'Ankle Boot')"
   ]
  },
  {
   "cell_type": "markdown",
   "metadata": {
    "id": "X6ov9QwMS2wm"
   },
   "source": [
    "Let's take a look of the first two picture we get in the training dataset:"
   ]
  },
  {
   "cell_type": "code",
   "execution_count": null,
   "metadata": {
    "colab": {
     "base_uri": "https://localhost:8080/",
     "height": 201
    },
    "id": "d5e6_gQnTC2o",
    "outputId": "b897dbe0-449f-4806-dff7-b8b839cbfd7e"
   },
   "outputs": [
    {
     "data": {
      "image/png": "[encoded data removed]",
      "text/plain": [
       "<Figure size 432x288 with 2 Axes>"
      ]
     },
     "metadata": {
      "needs_background": "light",
      "tags": []
     },
     "output_type": "display_data"
    }
   ],
   "source": [
    "fp1 = X_train[:,0]\n",
    "fp2 = X_train[:,1]\n",
    "\n",
    "import matplotlib.pyplot as plt\n",
    "f, ax = plt.subplots(1,2)\n",
    "\n",
    "ax[0].imshow(fp1.reshape((28,28)), cmap=\"gray\") #first image\n",
    "ax[1].imshow(fp2.reshape((28,28)), cmap=\"gray\") #second image\n",
    "plt.show()"
   ]
  },
  {
   "cell_type": "markdown",
   "metadata": {
    "id": "2SU0c9O2UZkm"
   },
   "source": [
    "The label of the training dataset shown above, the first picture is index 9 and second picture is index 0.\n",
    "\n",
    "As we can see in the label class, index 9 is 'Ankle Boot', index 0 is 'T-shirt/top'."
   ]
  },
  {
   "cell_type": "markdown",
   "metadata": {
    "id": "o2iwDP4smJAp"
   },
   "source": [
    "### Shuffle the dataset"
   ]
  },
  {
   "cell_type": "markdown",
   "metadata": {
    "id": "QQT4AMbhIQNu"
   },
   "source": [
    "Shuffle the training and validation dataset, with label, by index."
   ]
  },
  {
   "cell_type": "code",
   "execution_count": null,
   "metadata": {
    "id": "Svphcw0zmlX0"
   },
   "outputs": [],
   "source": [
    "def split(X, y, val_ratio=0.1):\n",
    "    val_number = int(val_ratio * X.shape[1])\n",
    "    random_indice = np.random.permutation(X.shape[1])\n",
    "    return X[:, random_indice[val_number:]],y[random_indice[val_number:]], \\\n",
    "           X[:, random_indice[:val_number]], \\\n",
    "           y[random_indice[:val_number]]\n",
    "\n",
    "X_train, y_train, X_val, y_val = split(X_train, y_train)"
   ]
  },
  {
   "cell_type": "markdown",
   "metadata": {
    "id": "nJS3CyI_A5-s"
   },
   "source": [
    "###One Hot Encoding Labels"
   ]
  },
  {
   "cell_type": "markdown",
   "metadata": {
    "id": "Q4EwojurBAkq"
   },
   "source": [
    "Make one dimension labels from (dims,) to (10, dims) for the better prediction of the Neural Network."
   ]
  },
  {
   "cell_type": "code",
   "execution_count": null,
   "metadata": {
    "colab": {
     "base_uri": "https://localhost:8080/",
     "height": 34
    },
    "id": "cgJECDe3A90A",
    "outputId": "78122816-8582-4c09-a65e-a1633ea94121"
   },
   "outputs": [
    {
     "name": "stdout",
     "output_type": "stream",
     "text": [
      "(10, 10000)\n"
     ]
    }
   ],
   "source": [
    "def one_hot_encoding(label):\n",
    "    shape = (label.max() + 1, label.size)\n",
    "    rows = np.arange(label.size)\n",
    "    one_hot = np.zeros(shape)\n",
    "    one_hot[label, rows] = 1\n",
    "    return one_hot\n",
    "\n",
    "y_train = one_hot_encoding(y_train)\n",
    "y_val = one_hot_encoding(y_val)\n",
    "y_test = one_hot_encoding(y_test)\n",
    "\n",
    "print(y_test.shape)"
   ]
  },
  {
   "cell_type": "markdown",
   "metadata": {
    "id": "Lh33tLS4m8xe"
   },
   "source": [
    "## 1.2 Implementing the Network"
   ]
  },
  {
   "cell_type": "code",
   "execution_count": null,
   "metadata": {
    "id": "uETvOUkFFwVI"
   },
   "outputs": [],
   "source": [
    "class NeuralNetwork:\n",
    "    def __init__(self, layer_dims, seed_value=99):\n",
    "        \"\"\"\n",
    "        Arguments:\n",
    "        layer_dims -- A list contains the dimensions of each layer in CNN\n",
    "        seed_value -- set seed to generate random numpy\n",
    "\n",
    "        Attributes generated:\n",
    "        parameters -- a dict contains parameters \"W1\", \"b1\", ..., \"WL\", \n",
    "                      \"bL\"of each corresponding layer\n",
    "                    Wl -- weight matrix of shape (layer_dims[l],layer_dims[l-1])\n",
    "                    bl -- bias vector of shape (layer_dims[l], 1)\n",
    "        nn_architecture -- the dictionary contains the description of the \n",
    "                           network architecture\n",
    "                    'input_dim'  -- input dimension from last network layer\n",
    "                    'output_dim' -- output dimension after applying the \n",
    "                                    activation\n",
    "                    'activation' -- ReLU or Softmax\n",
    "        X_val -- validation data in training\n",
    "        y_val -- validation label in training\n",
    "        cost_history -- stores cross entrophy loss for every training iteration\n",
    "        acc_history -- stores the training accuracy for every iteration\n",
    "        \"\"\"\n",
    "\n",
    "        np.random.seed(seed_value)\n",
    "        self.parameters = {}\n",
    "        self.nn_architecture = []\n",
    "        self.X_val = None\n",
    "        self.y_val = None\n",
    "        self.cost_history = []\n",
    "        self.acc_history = []\n",
    "\n",
    "        input_dim = layer_dims[0]\n",
    "        for idx, output_dim in enumerate(layer_dims[1:]):\n",
    "            self.nn_architecture.append({'input_dim': input_dim, 'output_dim': \\\n",
    "                                         output_dim, 'activation': 'relu'})\n",
    "            input_dim = output_dim\n",
    "        self.nn_architecture[len(self.nn_architecture) - 1]['activation'] = \\\n",
    "                                                            'softmax'\n",
    "\n",
    "        for idx, layer in enumerate(self.nn_architecture):\n",
    "            layer_idx = idx + 1\n",
    "            layer_input_size = layer[\"input_dim\"]\n",
    "            layer_output_size = layer[\"output_dim\"]\n",
    "\n",
    "            self.parameters['W' + str(layer_idx)] = np.random.randn(\n",
    "                layer_output_size, layer_input_size) * 0.1\n",
    "            self.parameters['b' + str(layer_idx)] = np.random.randn(\n",
    "                layer_output_size, 1) * 0.1\n",
    "\n",
    "    def relu(self, Z):\n",
    "        \"\"\"\n",
    "        Implement the ReLU function\n",
    "\n",
    "        Arguments:\n",
    "        Z -- output of linear portion of the output layer (last layer)\n",
    "\n",
    "        Returns:\n",
    "        Rectified linear units\n",
    "        \"\"\"\n",
    "        return np.maximum(0, Z)\n",
    "\n",
    "    def softmax(self, Z):\n",
    "        \"\"\"\n",
    "        Implement the Softmax function\n",
    "\n",
    "        Arguments:\n",
    "        Z -- output of linear portion of the output layer (last layer)\n",
    "\n",
    "        Returns:\n",
    "        p -- softmax probability\n",
    "        \"\"\"\n",
    "        p = np.exp(Z - np.max(Z, axis=0, keepdims=True))\n",
    "        p /= np.sum(p, axis=0, keepdims=True)\n",
    "        return p\n",
    "\n",
    "    def affineForward(self, A, W, b, activation=\"relu\"):\n",
    "        \"\"\"\n",
    "        Implement the linear portion of CNN's forward propagation.\n",
    "\n",
    "        Arguments:\n",
    "        A -- activation from previous layer\n",
    "        W -- weights matrix\n",
    "        b -- bias vector\n",
    "\n",
    "        Returns:\n",
    "        The neural layer after applied activation function\n",
    "        Z -- the input of the activation function\n",
    "        \"\"\"\n",
    "        Z = np.dot(W, A) + b\n",
    "\n",
    "        if activation == \"relu\":\n",
    "            activation_func = self.relu\n",
    "        elif activation == \"softmax\":\n",
    "            activation_func = self.softmax\n",
    "        else:\n",
    "            raise Exception('Non-supported activation function')\n",
    "\n",
    "        return activation_func(Z), Z\n",
    "\n",
    "    def forwardPropagation(self, X):\n",
    "        \"\"\"\n",
    "        Implement the forward propagation\n",
    "\n",
    "        Arguments:\n",
    "        X -- input from input layer as the starting point of forward propagation\n",
    "\n",
    "        Returns:\n",
    "        A_curr -- the output of the activation function after each layer\n",
    "        cache -- a list stores parameters (cache) for each layer during \n",
    "                 forward propagation\n",
    "        \"\"\"\n",
    "        A_curr = X\n",
    "        cache = {}\n",
    "\n",
    "        for idx, layer in enumerate(self.nn_architecture):\n",
    "            layer_idx = idx + 1\n",
    "            A_prev = A_curr\n",
    "\n",
    "            activ_function_curr = layer[\"activation\"]\n",
    "            W_curr = self.parameters[\"W\" + str(layer_idx)]\n",
    "            b_curr = self.parameters[\"b\" + str(layer_idx)]\n",
    "            A_curr, Z_curr = self.affineForward(A_prev, W_curr, b_curr, \n",
    "                                                activ_function_curr)\n",
    "\n",
    "            cache[\"A\" + str(idx)] = A_prev\n",
    "            cache[\"Z\" + str(layer_idx)] = Z_curr\n",
    "\n",
    "        return A_curr, cache\n",
    "\n",
    "    def costFunction(self, AL, y, epsilon=1e-12):\n",
    "        \"\"\"\n",
    "        Implement the cross entropy loss\n",
    "\n",
    "        Arguments:\n",
    "        AL -- output of linear portion of the output layer (last layer)\n",
    "        y -- the labels of data\n",
    "        epsilon -- a very small value, in case the AL is zero when log\n",
    "\n",
    "        Returns:\n",
    "        cost -- the cross entropy loss value of each iteration of forward \n",
    "                propagation\n",
    "        \"\"\"\n",
    "        cost = -np.mean(np.multiply(y, np.log(AL + epsilon)))\n",
    "        return cost\n",
    "\n",
    "    def derivative_cost(self, AL, y):\n",
    "        \"\"\"\n",
    "        Implement the first step of back propagation: the derivative of cost \n",
    "        function over AL\n",
    "\n",
    "        Arguments:\n",
    "        AL -- output of linear portion of the output layer (last layer)\n",
    "        y -- the labels of data\n",
    "\n",
    "        Returns:\n",
    "        dAL -- the derivative of cost function over AL\n",
    "        \"\"\"\n",
    "        dAL = AL - y\n",
    "        return dAL\n",
    "\n",
    "    def affineBackward(self,dA_curr,W_curr,Z_curr,A_prev,activation=\"relu\"):\n",
    "        \"\"\"\n",
    "        Implement the linear portion of backward propagation of one layer(1) \n",
    "\n",
    "        Arguments:\n",
    "        dA_curr -- Gradient of the cost over activation output from current layer (layer l-1)\n",
    "        W_curr -- W for the current layer(layerl)\n",
    "        Z_curr -- Z for the current layer(layerl)\n",
    "        A_prev -- A for the previous layer(layerl)\n",
    "\n",
    "        Returns:\n",
    "        dA_prev -- Gradient of the cost over activation output from previous layer (layer l-1)\n",
    "        dW_curr -- Gradient of the cost over W for the current layer(layerl)\n",
    "        db_curr -- Gradient of the cost over b for the current layer(layer1)\n",
    "        \"\"\"\n",
    "        if activation == \"relu\":\n",
    "            dZ_curr = self.derivative_relu(dA_curr, Z_curr)\n",
    "        elif activation == \"softmax\":\n",
    "            dZ_curr = dA_curr\n",
    "        else:\n",
    "            raise Exception('Non-supported activation function')\n",
    "\n",
    "        m = A_prev.shape[1]\n",
    "        dW_curr = np.dot(dZ_curr, A_prev.T) / m\n",
    "        db_curr = np.sum(dZ_curr, axis=1, keepdims=True) / m\n",
    "        dA_prev = np.dot(W_curr.T, dZ_curr)\n",
    "\n",
    "        return dA_prev, dW_curr, db_curr\n",
    "\n",
    "    def derivative_relu(self, dA, Z):\n",
    "        \"\"\"\n",
    "        Implement the derivative calculation of relu activation during backpropagation\n",
    "\n",
    "        Arguments:\n",
    "        dA -- the gradient of cost function over relu activation ouput A\n",
    "\n",
    "        Returns:\n",
    "        dZ -- the derivative of cost function over Z\n",
    "        \"\"\"\n",
    "        dZ = np.array(dA, copy=True)\n",
    "        dZ[Z <= 0] = 0\n",
    "        return dZ\n",
    "\n",
    "    def backPropagation(self, dAL, cache):\n",
    "        \"\"\"\n",
    "        Implement backpropagation for each layer\n",
    "\n",
    "        Arguments:\n",
    "        dAL -- the gradient of cost function over the activation output of last \n",
    "               layer: starting point for backpropagation\n",
    "        cache -- a list stores tuple of A,W,b,Z for each layer\n",
    "\n",
    "        Returns:\n",
    "        grads -- a dict stores dWl and dbl for each layer l\n",
    "        \"\"\"\n",
    "        grads = {}\n",
    "\n",
    "        # initiation of backward propagation\n",
    "        dA_prev = dAL\n",
    "\n",
    "        for layer_idx_prev, layer in reversed(list(enumerate(\n",
    "                                              self.nn_architecture))):\n",
    "            # we number network layers from 1\n",
    "            layer_idx_curr = layer_idx_prev + 1\n",
    "            # extraction of the activation function for the current layer\n",
    "            activ_function_curr = layer[\"activation\"]\n",
    "            # update dA\n",
    "            dA_curr = dA_prev\n",
    "            # get variables\n",
    "            A_prev = cache[\"A\" + str(layer_idx_prev)]\n",
    "            Z_curr = cache[\"Z\" + str(layer_idx_curr)]\n",
    "            W_curr = self.parameters[\"W\" + str(layer_idx_curr)]\n",
    "            # get the gradient of the cost\n",
    "            dA_prev, dW_curr, db_curr = self.affineBackward(\n",
    "                dA_curr, W_curr, Z_curr, A_prev, activ_function_curr)\n",
    "            # update gradient values\n",
    "            grads[\"dW\" + str(layer_idx_curr)] = dW_curr\n",
    "            grads[\"db\" + str(layer_idx_curr)] = db_curr\n",
    "\n",
    "        return grads\n",
    "\n",
    "    def updateParameters(self, grads, alpha):\n",
    "        \"\"\"\n",
    "        Use gradient descent to implement updated parameters\n",
    "\n",
    "        Arguments:\n",
    "        grads -- a dict stores all parameters gradients for each layer\n",
    "        alpha -- learning rate\n",
    "        \"\"\"\n",
    "        for layer_idx, layer in enumerate(self.nn_architecture, 1):\n",
    "            self.parameters[\"W\" + str(layer_idx)] -= alpha * grads[\"dW\" + \\\n",
    "                                                              str(layer_idx)]\n",
    "            self.parameters[\"b\" + str(layer_idx)] -= alpha * grads[\"db\" + \\\n",
    "                                                              str(layer_idx)]\n",
    "\n",
    "    def train(self,X,y,iters,alpha,batch_size,verbose=False,print_every=100):\n",
    "        \"\"\"\n",
    "        It takes advantage of every function in this class to implement training\n",
    "        and validation using CNN.\n",
    "\n",
    "        Arguments:\n",
    "        X -- input data\n",
    "        y -- labels of data\n",
    "        iters -- number of iterations to run\n",
    "        alpha -- learning rate\n",
    "        batch_size -- number of samples to assign to minibatch\n",
    "        verbose -- decide whether to print or not print loss and accuracy\n",
    "        print_every -- number of iterations to print\n",
    "\n",
    "        Return:\n",
    "        Numbewr of iterations, train loss, train_acc, and valid_acc in every \n",
    "        customized iterations\n",
    "        \"\"\"\n",
    "        for i in range(0, iters):\n",
    "            X_batch, y_batch = self.get_batch(X, y, batch_size)\n",
    "            AL, cache = self.forwardPropagation(X_batch)\n",
    "            loss = self.costFunction(AL, y_batch)\n",
    "            dAL = self.derivative_cost(AL, y_batch)\n",
    "            grads = self.backPropagation(dAL, cache)\n",
    "            self.updateParameters(grads, alpha)\n",
    "            train_acc = self.score(self.predict(X), y)\n",
    "            if verbose:\n",
    "                if i == 0 or (i+1) % print_every == 0:\n",
    "                    val_acc = self.score(self.predict(self.X_val), self.y_val)\n",
    "                    print('iter={:4}, loss={:.6f}, train_acc={:.6f}, validation_acc={:.6f}'.format(i+1, loss, train_acc, val_acc))\n",
    "            self.cost_history.append(loss)\n",
    "            self.acc_history.append(train_acc)\n",
    "\n",
    "    def predict(self, X):\n",
    "        \"\"\"\n",
    "        It predicts the label given input x\n",
    "        Argument:\n",
    "        X -- input of data\n",
    "        Return:\n",
    "        y_pred -- predicted label\n",
    "        \"\"\"\n",
    "        AL, _ = self.forwardPropagation(X)\n",
    "        y_pred = np.argmax(AL, axis=0)\n",
    "        return y_pred\n",
    "\n",
    "    def score(self, y_pred, y_true):\n",
    "        \"\"\"\n",
    "        It calculates the percentage of correct predicted labels over true labels\n",
    "\n",
    "        Argument:\n",
    "        y_pred-- predicted labels\n",
    "        y_true -- true labels\n",
    "\n",
    "        REturn: percentage of correct predicted labels\n",
    "        \"\"\"\n",
    "        target = np.argmax(y_true, axis=0)\n",
    "        correct = np.mean(y_pred == target)\n",
    "        return correct\n",
    "\n",
    "    def load_validation_set(self, X_val, y_val):\n",
    "        \"\"\"\n",
    "        Load validation set to CNN\n",
    "        \"\"\"\n",
    "        self.X_val = X_val\n",
    "        self.y_val = y_val\n",
    "\n",
    "    def get_batch(self, X, y, batch_size):\n",
    "        \"\"\"\n",
    "        Load mini-batch to CNN\n",
    "        \"\"\"\n",
    "        batch_index = np.random.randint(X.shape[1], size=batch_size)\n",
    "        X_batch = X[:, batch_index]\n",
    "        y_batch = y[:, batch_index]\n",
    "        return X_batch, y_batch\n"
   ]
  },
  {
   "cell_type": "markdown",
   "metadata": {
    "id": "lqLmciBina8i"
   },
   "source": [
    "## 1.3 Predicting"
   ]
  },
  {
   "cell_type": "markdown",
   "metadata": {
    "id": "iiDUj7joBg4t"
   },
   "source": [
    "Define variables for training the Fully Connected Neural Network:"
   ]
  },
  {
   "cell_type": "code",
   "execution_count": null,
   "metadata": {
    "id": "suwM-dGbBqvE"
   },
   "outputs": [],
   "source": [
    "batch_size = 1000\n",
    "seed_value = 2\n",
    "learning_rate = 0.1\n",
    "iteration = 120\n",
    "print_every = 10\n",
    "layer_dims = [X_train.shape[0], 1024, 256, 128, 10]"
   ]
  },
  {
   "cell_type": "markdown",
   "metadata": {
    "id": "kCNWIhTABsgc"
   },
   "source": [
    "Train the F-CNN:"
   ]
  },
  {
   "cell_type": "code",
   "execution_count": null,
   "metadata": {
    "colab": {
     "base_uri": "https://localhost:8080/",
     "height": 238
    },
    "id": "uxykHGD6B19f",
    "outputId": "792a0038-9912-4500-9cab-c048d42c630a"
   },
   "outputs": [
    {
     "name": "stdout",
     "output_type": "stream",
     "text": [
      "iter=   1, loss=0.429308, train_acc=0.100111, validation_acc=0.099167\n",
      "iter=  10, loss=0.166481, train_acc=0.461574, validation_acc=0.455000\n",
      "iter=  20, loss=0.101982, train_acc=0.656241, validation_acc=0.646500\n",
      "iter=  30, loss=0.096968, train_acc=0.680870, validation_acc=0.676167\n",
      "iter=  40, loss=0.071267, train_acc=0.709759, validation_acc=0.699333\n",
      "iter=  50, loss=0.070132, train_acc=0.763889, validation_acc=0.761167\n",
      "iter=  60, loss=0.067600, train_acc=0.742463, validation_acc=0.736667\n",
      "iter=  70, loss=0.061559, train_acc=0.771593, validation_acc=0.767667\n",
      "iter=  80, loss=0.059510, train_acc=0.788759, validation_acc=0.784000\n",
      "iter=  90, loss=0.051820, train_acc=0.806685, validation_acc=0.804333\n",
      "iter= 100, loss=0.068209, train_acc=0.765444, validation_acc=0.759833\n",
      "iter= 110, loss=0.053147, train_acc=0.820815, validation_acc=0.819500\n",
      "iter= 120, loss=0.063519, train_acc=0.789130, validation_acc=0.785333\n"
     ]
    }
   ],
   "source": [
    "CNN = NeuralNetwork(layer_dims, seed_value)\n",
    "CNN.load_validation_set(X_val, y_val)\n",
    "CNN.train(X_train, y_train, iteration, learning_rate, batch_size, True, print_every)"
   ]
  },
  {
   "cell_type": "markdown",
   "metadata": {
    "id": "5Y-Ida7XB3ux"
   },
   "source": [
    "Test the accuracy based on the testing dataset:"
   ]
  },
  {
   "cell_type": "code",
   "execution_count": null,
   "metadata": {
    "colab": {
     "base_uri": "https://localhost:8080/",
     "height": 34
    },
    "id": "yKwPf_ghnc44",
    "outputId": "ea7bd2f5-4628-4fea-bf40-d833f23352b8"
   },
   "outputs": [
    {
     "name": "stdout",
     "output_type": "stream",
     "text": [
      "Accuracy pridicting test dataset = 77.97%\n"
     ]
    }
   ],
   "source": [
    "y_pred = CNN.predict(X_test)\n",
    "test_acc = CNN.score(y_pred, y_test)\n",
    "print('Accuracy pridicting test dataset = {:.2%}'.format(test_acc))"
   ]
  },
  {
   "cell_type": "markdown",
   "metadata": {
    "id": "HzDTMEL2JTa9"
   },
   "source": [
    "To visualize the performance of the Neural Network, a plot below shows the cross entropy loss during the iterations:"
   ]
  },
  {
   "cell_type": "code",
   "execution_count": null,
   "metadata": {
    "colab": {
     "base_uri": "https://localhost:8080/",
     "height": 279
    },
    "id": "WtS_7swHH4DF",
    "outputId": "f67592ec-0ee1-4eee-eb74-90aaf56af984"
   },
   "outputs": [
    {
     "data": {
      "image/png": "[encoded data removed]",
      "text/plain": [
       "<Figure size 432x288 with 1 Axes>"
      ]
     },
     "metadata": {
      "needs_background": "light",
      "tags": []
     },
     "output_type": "display_data"
    }
   ],
   "source": [
    "import matplotlib.pyplot as plt\n",
    "plt.plot(CNN.cost_history)\n",
    "plt.xlabel('Iterations')\n",
    "plt.ylabel('Cross entropy loss')\n",
    "plt.show()"
   ]
  },
  {
   "cell_type": "markdown",
   "metadata": {
    "id": "i8js2mjIJqnw"
   },
   "source": [
    "Below shows the prediction accuracy of the training data:"
   ]
  },
  {
   "cell_type": "code",
   "execution_count": null,
   "metadata": {
    "colab": {
     "base_uri": "https://localhost:8080/",
     "height": 279
    },
    "id": "2hYX5VcHIpkn",
    "outputId": "2ff8f787-bf0f-4d64-c727-45dfc7b89869"
   },
   "outputs": [
    {
     "data": {
      "image/png": "[encoded data removed]",
      "text/plain": [
       "<Figure size 432x288 with 1 Axes>"
      ]
     },
     "metadata": {
      "needs_background": "light",
      "tags": []
     },
     "output_type": "display_data"
    }
   ],
   "source": [
    "plt.plot(CNN.acc_history)\n",
    "plt.xlabel('Iterations')\n",
    "plt.ylabel('Accuracy')\n",
    "plt.show()"
   ]
  },
  {
   "cell_type": "markdown",
   "metadata": {
    "id": "Bcp3FnWD9qy-"
   },
   "source": [
    "# 2 - CNN using PyTorch"
   ]
  },
  {
   "cell_type": "markdown",
   "metadata": {
    "id": "wBY2k5_vLr0f"
   },
   "source": [
    "## Libraries used:"
   ]
  },
  {
   "cell_type": "code",
   "execution_count": 155,
   "metadata": {
    "id": "JnlIIiNOLvEC"
   },
   "outputs": [],
   "source": [
    "import torch\n",
    "import torch.nn as nn\n",
    "from torch.autograd import Variable\n",
    "import torch.nn.functional as F\n",
    "\n",
    "import torchvision\n",
    "from torch.utils.data import Dataset, DataLoader\n",
    "import torchvision.transforms as transforms\n",
    "\n",
    "import matplotlib.pyplot as plt"
   ]
  },
  {
   "cell_type": "markdown",
   "metadata": {
    "id": "kb1yEpm7LxBv"
   },
   "source": [
    "## 2.1 Loading the FashionMNIST dataset"
   ]
  },
  {
   "cell_type": "markdown",
   "metadata": {
    "id": "LovN94yvLs4n"
   },
   "source": [
    "#### Download the dataset"
   ]
  },
  {
   "cell_type": "code",
   "execution_count": 156,
   "metadata": {
    "id": "CwtkrnS6MJ6c"
   },
   "outputs": [],
   "source": [
    "trainSet = torchvision.datasets.FashionMNIST(root='./data', train=True, download=True, \n",
    "                                      transform=transforms.ToTensor())\n",
    "testSet = torchvision.datasets.FashionMNIST(root='./data', train=False, download=True,\n",
    "                                      transform=transforms.ToTensor())"
   ]
  },
  {
   "cell_type": "markdown",
   "metadata": {
    "id": "1lF8meT2MPDQ"
   },
   "source": [
    "Make sure you turn on the GPU in Runtime setting, for a better performance."
   ]
  },
  {
   "cell_type": "code",
   "execution_count": 157,
   "metadata": {
    "id": "DOeL0bvpMQ5j"
   },
   "outputs": [],
   "source": [
    "device = torch.device(\"cuda:0\" if torch.cuda.is_available() else \"cpu\")"
   ]
  },
  {
   "cell_type": "markdown",
   "metadata": {
    "id": "8nnCFXRpMWov"
   },
   "source": [
    "#### Get the train/test loader using DataLoader"
   ]
  },
  {
   "cell_type": "markdown",
   "metadata": {
    "id": "KluN2Rv9MpN_"
   },
   "source": [
    " With batch size --> 100, and Shuffle is TRUE."
   ]
  },
  {
   "cell_type": "code",
   "execution_count": 158,
   "metadata": {
    "id": "P8RJJsjvMT7f"
   },
   "outputs": [],
   "source": [
    "trainLoader = torch.utils.data.DataLoader(trainSet,batch_size=100,shuffle=True)\n",
    "testLoader = torch.utils.data.DataLoader(testSet,batch_size=100,shuffle=True)"
   ]
  },
  {
   "cell_type": "markdown",
   "metadata": {
    "id": "ICU1hjiYMS3K"
   },
   "source": [
    "####Creating a method to name the class for the label. "
   ]
  },
  {
   "cell_type": "markdown",
   "metadata": {
    "id": "8IvbYoYuMfJH"
   },
   "source": [
    "example: 9 --> Ankle Boot"
   ]
  },
  {
   "cell_type": "code",
   "execution_count": 159,
   "metadata": {
    "id": "Y7Oj2g1RMcu1"
   },
   "outputs": [],
   "source": [
    "def outputLabel(label):\n",
    "    outputMapping = {\n",
    "                 0: \"T-shirt/Top\",\n",
    "                 1: \"Trouser\",\n",
    "                 2: \"Pullover\",\n",
    "                 3: \"Dress\",\n",
    "                 4: \"Coat\", \n",
    "                 5: \"Sandal\", \n",
    "                 6: \"Shirt\",\n",
    "                 7: \"Sneaker\",\n",
    "                 8: \"Bag\",\n",
    "                 9: \"Ankle Boot\"\n",
    "                 }\n",
    "    input = (label.item() if type(label) == torch.Tensor else label)\n",
    "    return outputMapping[input]"
   ]
  },
  {
   "cell_type": "markdown",
   "metadata": {
    "id": "AV5pxe4vMmcf"
   },
   "source": [
    "####To show a data using matplotlib :"
   ]
  },
  {
   "cell_type": "code",
   "execution_count": 160,
   "metadata": {
    "colab": {
     "base_uri": "https://localhost:8080/",
     "height": 282
    },
    "id": "jZKW9Wt2Mvup",
    "outputId": "1452f1e5-ea34-4237-b370-114ce43d1b1d"
   },
   "outputs": [
    {
     "name": "stdout",
     "output_type": "stream",
     "text": [
      "9\n"
     ]
    },
    {
     "data": {
      "image/png": "[encoded data removed]",
      "text/plain": [
       "<Figure size 432x288 with 1 Axes>"
      ]
     },
     "metadata": {
      "needs_background": "light",
      "tags": []
     },
     "output_type": "display_data"
    }
   ],
   "source": [
    "image, label = next(iter(trainSet))\n",
    "plt.imshow(image.squeeze(), cmap=\"gray\")\n",
    "print(label)"
   ]
  },
  {
   "cell_type": "markdown",
   "metadata": {
    "id": "0DjPZOiYMzIR"
   },
   "source": [
    "## 2.2 Implementing the Network"
   ]
  },
  {
   "cell_type": "markdown",
   "metadata": {
    "id": "KgeP1KJhM1X3"
   },
   "source": [
    "###Building the CNN class:\n",
    "#### Model Class Name: FashionCNN\n",
    "#### Layers: 2 sequential layers consist of:\n",
    "             *  Convolution layer with kernal -> 3*3, padding = 1 (1st layer) & padding = 0 (2nd layer).\n",
    "             *  Stride of 1 in both the layer\n",
    "             *  Activation function: Relu\n",
    "             *  All the functionaltiy is given in forward method that defines the forward pass of CNN.\n",
    "             *  Output:\n",
    "                     1.  1st Conv later:    input: 28 * 28 * 3   and  Output : 28 * 28 * 32.\n",
    "                     2.  Max pooling layer: input: 28 * 28 * 32  and Output:  14 * 14 * 32.\n",
    "                     3.  2nd Conv layer:    input : 14 * 14 * 32 and output: 12 * 12 * 64\n",
    "                     4.  2nd Max Pooling layer : 12 * 12 * 64, output: 6 * 6 * 64.\n",
    "\n",
    "#### At last fully connected layer has 10 output features for 10 types of clothes.\n"
   ]
  },
  {
   "cell_type": "code",
   "execution_count": 161,
   "metadata": {
    "id": "RI7FlJM9M6hj"
   },
   "outputs": [],
   "source": [
    "class FashionCNN(nn.Module):\n",
    "    \n",
    "    def __init__(self):\n",
    "        super(FashionCNN, self).__init__()\n",
    "        \n",
    "        self.layer1 = nn.Sequential(\n",
    "            nn.Conv2d(in_channels=1, out_channels=32, kernel_size=3, padding=1),\n",
    "            nn.BatchNorm2d(32),\n",
    "            nn.ReLU(),\n",
    "            nn.MaxPool2d(kernel_size=2, stride=2)\n",
    "        )\n",
    "        \n",
    "        self.layer2 = nn.Sequential(\n",
    "            nn.Conv2d(in_channels=32, out_channels=64, kernel_size=3),\n",
    "            nn.BatchNorm2d(64),\n",
    "            nn.ReLU(),\n",
    "            nn.MaxPool2d(2)\n",
    "        )\n",
    "        \n",
    "        self.fc1 = nn.Linear(in_features=64*6*6, out_features=600)\n",
    "        self.drop = nn.Dropout2d(0.25)\n",
    "        self.fc2 = nn.Linear(in_features=600, out_features=120)\n",
    "        self.fc3 = nn.Linear(in_features=120, out_features=10)\n",
    "        \n",
    "    def forward(self, x):\n",
    "        out = self.layer1(x)\n",
    "        out = self.layer2(out)\n",
    "        out = out.view(out.size(0), -1)\n",
    "        out = self.fc1(out)\n",
    "        out = self.drop(out)\n",
    "        out = self.fc2(out)\n",
    "        out = self.fc3(out)\n",
    "        \n",
    "        return out"
   ]
  },
  {
   "cell_type": "markdown",
   "metadata": {
    "id": "4vfSzs4XM_qa"
   },
   "source": [
    "###Method 1 - Chage another CNN architecture:"
   ]
  },
  {
   "cell_type": "markdown",
   "metadata": {
    "id": "sTBsQVfTNCn0"
   },
   "source": [
    "This architecture is defined in Lecture 4.\n",
    "\n",
    "With kernel sizes (5 x 5), Flattened input in fc_3 and softmax at the output.\n",
    "\n",
    "n1, n2 and n3 in this case, are 32, 64 and 128.\n",
    "\n",
    "The CNN architecture is shown in the picture below:\n",
    "\n",
    "![picture](https://drive.google.com/uc?export=view&id=1tblWBW1YD2vhietwE0sVti0CZpowtItb)"
   ]
  },
  {
   "cell_type": "markdown",
   "metadata": {
    "id": "ZQbu5AUfNGZB"
   },
   "source": [
    "(Note: if you choose to use the first FashionCNN, then don't run the following code)"
   ]
  },
  {
   "cell_type": "code",
   "execution_count": 130,
   "metadata": {
    "id": "OrmHfeDGNEBw"
   },
   "outputs": [],
   "source": [
    "class FashionCNN(nn.Module):\n",
    "    def __init__(self):\n",
    "        super(FashionCNN, self).__init__()\n",
    "        self.conv1 = nn.Conv2d(1, 32, 5, 1)\n",
    "        self.conv2 = nn.Conv2d(32, 64, 5, 1)\n",
    "        self.dropout1 = nn.Dropout2d(0.5)\n",
    "        self.fc3 = nn.Linear(4*4*64, 128)\n",
    "        self.fc4 = nn.Linear(128, 10)\n",
    "\n",
    "        # x represents our data\n",
    "\n",
    "    def forward(self, x):\n",
    "        # Pass data through conv1\n",
    "        x = self.conv1(x)\n",
    "        # Use the rectified-linear activation function over x\n",
    "        x = F.relu(x)\n",
    "        # Run max pooling over x\n",
    "        x = F.max_pool2d(x, 2)\n",
    "        # Pass data through conv2\n",
    "        x = self.conv2(x)\n",
    "        x = F.relu(x)\n",
    "        # Run max pooling over x\n",
    "        x = F.max_pool2d(x, 2)\n",
    "        # Flatten x with start_dim=1\n",
    "        x = torch.flatten(x, 1)\n",
    "        # Pass data through fc3\n",
    "        x = self.fc3(x)\n",
    "        x = F.relu(x)\n",
    "        # With dropout\n",
    "        x = self.dropout1(x)\n",
    "        # Pass data through fc4\n",
    "        x = self.fc4(x)\n",
    "\n",
    "        # Apply softmax to output\n",
    "        output = F.log_softmax(x, dim=1)\n",
    "        return output"
   ]
  },
  {
   "cell_type": "markdown",
   "metadata": {
    "id": "nXAcqC1VNKK8"
   },
   "source": [
    "### Define CNN by using different architecture to construct model"
   ]
  },
  {
   "cell_type": "markdown",
   "metadata": {
    "id": "8KJXPKP9NMNF"
   },
   "source": [
    "Take a look of the chosen model:"
   ]
  },
  {
   "cell_type": "code",
   "execution_count": 162,
   "metadata": {
    "colab": {
     "base_uri": "https://localhost:8080/",
     "height": 323
    },
    "id": "pzCAuIQiNQa5",
    "outputId": "daef9e1e-3d38-4b94-bf34-78c62b5498c5"
   },
   "outputs": [
    {
     "name": "stdout",
     "output_type": "stream",
     "text": [
      "FashionCNN(\n",
      "  (layer1): Sequential(\n",
      "    (0): Conv2d(1, 32, kernel_size=(3, 3), stride=(1, 1), padding=(1, 1))\n",
      "    (1): BatchNorm2d(32, eps=1e-05, momentum=0.1, affine=True, track_running_stats=True)\n",
      "    (2): ReLU()\n",
      "    (3): MaxPool2d(kernel_size=2, stride=2, padding=0, dilation=1, ceil_mode=False)\n",
      "  )\n",
      "  (layer2): Sequential(\n",
      "    (0): Conv2d(32, 64, kernel_size=(3, 3), stride=(1, 1))\n",
      "    (1): BatchNorm2d(64, eps=1e-05, momentum=0.1, affine=True, track_running_stats=True)\n",
      "    (2): ReLU()\n",
      "    (3): MaxPool2d(kernel_size=2, stride=2, padding=0, dilation=1, ceil_mode=False)\n",
      "  )\n",
      "  (fc1): Linear(in_features=2304, out_features=600, bias=True)\n",
      "  (drop): Dropout2d(p=0.25, inplace=False)\n",
      "  (fc2): Linear(in_features=600, out_features=120, bias=True)\n",
      "  (fc3): Linear(in_features=120, out_features=10, bias=True)\n",
      ")\n"
     ]
    }
   ],
   "source": [
    "model = FashionCNN()\n",
    "model.to(device)\n",
    "print(model)"
   ]
  },
  {
   "cell_type": "markdown",
   "metadata": {
    "id": "uKFs58rmNSHp"
   },
   "source": [
    "###Method 2 - Change different optimizers"
   ]
  },
  {
   "cell_type": "markdown",
   "metadata": {
    "id": "7QILrMjlNUQr"
   },
   "source": [
    "Firstly, define the learnin rate:"
   ]
  },
  {
   "cell_type": "code",
   "execution_count": 163,
   "metadata": {
    "id": "7GI_6p1NNVsS"
   },
   "outputs": [],
   "source": [
    "learningRate = 0.01"
   ]
  },
  {
   "cell_type": "markdown",
   "metadata": {
    "id": "LTV7zeedNXKy"
   },
   "source": [
    "Secondly, choose the optimizer in torch. First one we used, is ADAM:"
   ]
  },
  {
   "cell_type": "code",
   "execution_count": 149,
   "metadata": {
    "id": "pSb3F6OHNaAa"
   },
   "outputs": [],
   "source": [
    "optimizer = torch.optim.Adam(model.parameters(), lr=learningRate)"
   ]
  },
  {
   "cell_type": "markdown",
   "metadata": {
    "id": "rQMP3lJcNZNI"
   },
   "source": [
    "The second optimizer we used is SGD:\n",
    "\n",
    "(Note, you only need to run either the code above or the following one."
   ]
  },
  {
   "cell_type": "code",
   "execution_count": 164,
   "metadata": {
    "id": "_v6wSzKFNdK8"
   },
   "outputs": [],
   "source": [
    "optimizer = torch.optim.SGD(model.parameters(), lr=learningRate, momentum=0.9)"
   ]
  },
  {
   "cell_type": "markdown",
   "metadata": {
    "id": "SQOyornCNfKY"
   },
   "source": [
    "## 2.3 Predicting\n"
   ]
  },
  {
   "cell_type": "markdown",
   "metadata": {
    "id": "fss0D2SXNhSa"
   },
   "source": [
    "Let us start training the network with chosen architecture and optimizer, then test it on the testing dataset"
   ]
  },
  {
   "cell_type": "code",
   "execution_count": 165,
   "metadata": {
    "colab": {
     "base_uri": "https://localhost:8080/",
     "height": 323
    },
    "id": "7MCZJgwtNje2",
    "outputId": "e2fc726d-88d2-4c3a-e1fd-f8f0aab7e843"
   },
   "outputs": [
    {
     "name": "stdout",
     "output_type": "stream",
     "text": [
      "Iteration: 500, Loss: 0.265, Accuracy: 86.36%\n",
      "Iteration: 1000, Loss: 0.150, Accuracy: 88.40%\n",
      "Iteration: 1500, Loss: 0.326, Accuracy: 89.72%\n",
      "Iteration: 2000, Loss: 0.320, Accuracy: 90.50%\n",
      "Iteration: 2500, Loss: 0.191, Accuracy: 90.32%\n",
      "Iteration: 3000, Loss: 0.261, Accuracy: 90.05%\n",
      "Iteration: 3500, Loss: 0.337, Accuracy: 90.77%\n",
      "Iteration: 4000, Loss: 0.233, Accuracy: 90.64%\n",
      "Iteration: 4500, Loss: 0.222, Accuracy: 90.64%\n",
      "Iteration: 5000, Loss: 0.110, Accuracy: 90.47%\n",
      "Iteration: 5500, Loss: 0.135, Accuracy: 91.72%\n",
      "Iteration: 6000, Loss: 0.142, Accuracy: 90.32%\n",
      "Iteration: 6500, Loss: 0.182, Accuracy: 90.73%\n",
      "Iteration: 7000, Loss: 0.185, Accuracy: 91.04%\n",
      "Iteration: 7500, Loss: 0.140, Accuracy: 91.18%\n",
      "Iteration: 8000, Loss: 0.127, Accuracy: 90.62%\n",
      "Iteration: 8500, Loss: 0.084, Accuracy: 91.31%\n",
      "Iteration: 9000, Loss: 0.085, Accuracy: 91.31%\n"
     ]
    }
   ],
   "source": [
    "error = nn.CrossEntropyLoss()\n",
    "numEpochs = 15\n",
    "count = 0\n",
    "# Lists for visualization of loss and accuracy \n",
    "lossList = []\n",
    "iterationList = []\n",
    "accuracyList = []\n",
    "\n",
    "# Lists for knowing classwise accuracy\n",
    "predictionsList = []\n",
    "labelsList = []\n",
    "\n",
    "for epoch in range(numEpochs):\n",
    "    for images, labels in trainLoader:\n",
    "        # Transfering the images and labels to GPU(if available)\n",
    "        images, labels = images.to(device), labels.to(device)\n",
    "    \n",
    "        train = Variable(images.view(100, 1, 28, 28))\n",
    "        labels = Variable(labels)\n",
    "        \n",
    "        # Here is --> Forward pass \n",
    "        outputs = model(train)\n",
    "        loss = error(outputs, labels)\n",
    "        \n",
    "        # Initializing a gradient as 0 so there is no mixing of gradient among the batches\n",
    "        optimizer.zero_grad()\n",
    "        \n",
    "        #Propagating the error backward\n",
    "        loss.backward()\n",
    "        \n",
    "        # Optimizing the parameters (Adam Algorithm)\n",
    "        optimizer.step()\n",
    "    \n",
    "        count += 1\n",
    "    \n",
    "    # Let us start testing the model:\n",
    "    \n",
    "        if not (count % 50):    \n",
    "            total = 0\n",
    "            correct = 0\n",
    "        \n",
    "            for images, labels in testLoader:\n",
    "                images, labels = images.to(device), labels.to(device)\n",
    "                labelsList.append(labels)\n",
    "            \n",
    "                test = Variable(images.view(100, 1, 28, 28))\n",
    "            \n",
    "                outputs = model(test)\n",
    "            \n",
    "                predictions = torch.max(outputs, 1)[1].to(device)\n",
    "                predictionsList.append(predictions)\n",
    "                correct += (predictions == labels).sum()\n",
    "            \n",
    "                total += len(labels)\n",
    "            accuracy = correct * 1.0 / total\n",
    "            lossList.append(loss.data)\n",
    "            iterationList.append(count)\n",
    "            accuracyList.append(accuracy)\n",
    "        \n",
    "        if not (count % 500):\n",
    "            print(\"Iteration: {}, Loss: {:.3f}, Accuracy: {:.2%}\".format(count, loss.data, accuracy))"
   ]
  },
  {
   "cell_type": "markdown",
   "metadata": {
    "id": "03Sd51LiROlL"
   },
   "source": [
    "Plot the loss in iterations:"
   ]
  },
  {
   "cell_type": "code",
   "execution_count": 168,
   "metadata": {
    "colab": {
     "base_uri": "https://localhost:8080/",
     "height": 279
    },
    "id": "C4v2LBefRU6Q",
    "outputId": "a23dc5f2-ee93-452e-9afd-78f3ea56e312"
   },
   "outputs": [
    {
     "data": {
      "image/png": "[encoded data removed]",
      "text/plain": [
       "<Figure size 432x288 with 1 Axes>"
      ]
     },
     "metadata": {
      "needs_background": "light",
      "tags": []
     },
     "output_type": "display_data"
    }
   ],
   "source": [
    "plt.plot(iterationList, lossList)\n",
    "plt.xlabel(\"Iterations\")\n",
    "plt.ylabel(\"Loss\")\n",
    "plt.show()"
   ]
  },
  {
   "cell_type": "markdown",
   "metadata": {
    "id": "JJvetEqsRgZo"
   },
   "source": [
    "Plot the accuracy in iterations:"
   ]
  },
  {
   "cell_type": "code",
   "execution_count": 169,
   "metadata": {
    "colab": {
     "base_uri": "https://localhost:8080/",
     "height": 279
    },
    "id": "l1mgPykLSkUg",
    "outputId": "d50890bd-6912-4096-a968-5dec4fe9d07d"
   },
   "outputs": [
    {
     "data": {
      "image/png": "[encoded data removed]",
      "text/plain": [
       "<Figure size 432x288 with 1 Axes>"
      ]
     },
     "metadata": {
      "needs_background": "light",
      "tags": []
     },
     "output_type": "display_data"
    }
   ],
   "source": [
    "plt.plot(iterationList, accuracyList)\n",
    "plt.xlabel(\"Iterations\")\n",
    "plt.ylabel(\"Accuracy\")\n",
    "plt.show()"
   ]
  },
  {
   "cell_type": "markdown",
   "metadata": {
    "id": "pXf8tuzYNmc-"
   },
   "source": [
    "### Test"
   ]
  },
  {
   "cell_type": "code",
   "execution_count": 170,
   "metadata": {
    "colab": {
     "base_uri": "https://localhost:8080/",
     "height": 34
    },
    "id": "XT7qDhplNoSc",
    "outputId": "424a91a2-236b-47fc-c346-c4895a74050c"
   },
   "outputs": [
    {
     "name": "stdout",
     "output_type": "stream",
     "text": [
      "Test set accuracy: 91.46%\n"
     ]
    }
   ],
   "source": [
    "model.eval()\n",
    "correct = 0\n",
    "for images, labels in testLoader:\n",
    "    with torch.no_grad(): # so that computation graph history is not stored\n",
    "        images, labels = images.to(device), labels.to(device) # send tensors to GPU\n",
    "        outputs = model(images)\n",
    "        predictions = outputs.data.max(1)[1]\n",
    "        correct += predictions.eq(labels.data).sum()\n",
    "        \n",
    "print('Test set accuracy: {:.2f}%'.format(100.0 * correct / len(testLoader.dataset)))"
   ]
  },
  {
   "cell_type": "markdown",
   "metadata": {
    "id": "C5Gqkt8kNqYE"
   },
   "source": [
    "Auxillary: Getting the accuracy with respect to each classification in the fashionMINST Dataset"
   ]
  },
  {
   "cell_type": "code",
   "execution_count": 171,
   "metadata": {
    "colab": {
     "base_uri": "https://localhost:8080/",
     "height": 187
    },
    "id": "eCqmu5elNsBR",
    "outputId": "6481aa91-3c3e-420e-b6af-4844b09f5aad"
   },
   "outputs": [
    {
     "name": "stdout",
     "output_type": "stream",
     "text": [
      "Accuracy of T-shirt/Top: 82.40%\n",
      "Accuracy of Trouser: 98.50%\n",
      "Accuracy of Pullover: 84.60%\n",
      "Accuracy of Dress: 93.90%\n",
      "Accuracy of Coat: 87.10%\n",
      "Accuracy of Sandal: 98.00%\n",
      "Accuracy of Shirt: 77.60%\n",
      "Accuracy of Sneaker: 97.80%\n",
      "Accuracy of Bag: 97.60%\n",
      "Accuracy of Ankle Boot: 97.10%\n"
     ]
    }
   ],
   "source": [
    "classCorrect = [0. for _ in range(10)]\n",
    "totalCorrect = [0. for _ in range(10)]\n",
    "\n",
    "with torch.no_grad():\n",
    "    for images, labels in testLoader:\n",
    "        images, labels = images.to(device), labels.to(device)\n",
    "        test = Variable(images)\n",
    "        outputs = model(test)\n",
    "        predicted = torch.max(outputs, 1)[1]\n",
    "        c = (predicted == labels).squeeze()\n",
    "        \n",
    "        for i in range(100):\n",
    "            label = labels[i]\n",
    "            classCorrect[label] += c[i].item()\n",
    "            totalCorrect[label] += 1\n",
    "        \n",
    "for i in range(10):\n",
    "    print(\"Accuracy of {}: {:.2f}%\".format(outputLabel(i), classCorrect[i] * 100 / totalCorrect[i]))"
   ]
  },
  {
   "cell_type": "markdown",
   "metadata": {
    "id": "VnTMTq00cJyN"
   },
   "source": [
    "Among 10 categories, Bag has the highest prediction accuracy, and Shirt has the lowest."
   ]
  },
  {
   "cell_type": "markdown",
   "metadata": {
    "id": "69huYurXNuSO"
   },
   "source": [
    "### Conclusion according to Method 1"
   ]
  },
  {
   "cell_type": "markdown",
   "metadata": {
    "id": "zOYytVZ4NxXC"
   },
   "source": [
    "With same other conditions, the first Architecure we used, is more instable. The loss shown in the iteration has big waves. \n",
    "\n",
    "Instead, the second Architecture defined according to the lecture, has a little bit more smooth loss curve and more stable."
   ]
  },
  {
   "cell_type": "markdown",
   "metadata": {
    "id": "17w2-3DkN1K_"
   },
   "source": [
    "### Conclusion according to Method 2"
   ]
  },
  {
   "cell_type": "markdown",
   "metadata": {
    "id": "9hQY7anoN10v"
   },
   "source": [
    "For both Architecture, ADAM predicts the accuracy faster. Although, SGD is more stable in loss calculation.\n",
    "\n",
    "Furthurmore, we found using Architecture 1 or the Architecture 2 with SGD can reach their best performance overall."
   ]
  },
  {
   "cell_type": "markdown",
   "metadata": {
    "id": "oQIYvYtBN5-r"
   },
   "source": [
    "# 3 - Answer these questions"
   ]
  },
  {
   "cell_type": "markdown",
   "metadata": {
    "id": "cfHOR4JjN6nR"
   },
   "source": [
    "## Question 1"
   ]
  },
  {
   "cell_type": "markdown",
   "metadata": {
    "id": "GRFT5g-nOucm"
   },
   "source": [
    "Convolution makes the neural network to model translation of object in image automatically, could CNN model the different orientations of object in images? How to train a CNN to classify objects with different\n",
    "orientations?"
   ]
  },
  {
   "cell_type": "markdown",
   "metadata": {
    "id": "YN0WpyvAOwsS"
   },
   "source": [
    "### Answer 1"
   ]
  },
  {
   "cell_type": "markdown",
   "metadata": {
    "id": "Bl2NvnwkdIrG"
   },
   "source": [
    "**Yes, the CNN model can be used for the different orientations of the object in images.**\n",
    "\n",
    "**Firstly, we will look in brute force:**\n",
    "\n",
    "**We can give the rotated images while training the model. However, we don’t think it is an optimal solution. In fact, we believe this is a weak solution.**\n",
    " \n",
    "\n",
    "**While there are different methods we can use, We will be explaining the identification of the different orientations of images using an available model named RotNet.**\n",
    " \n",
    "\n",
    "**What is RotNet?**\n",
    "\n",
    "**It is a convolutional neural network for predicting the rotation angle of an image that corrects its orientation.**\n",
    "\n",
    "**To explain this model in detail:**\n",
    "\n",
    "\n",
    "**We have two consecutive convolutional layers (with kernel size & number of the different kernels). The next layer is the max-pooling layer (which also takes the kernel size). The dropout layer sets a fraction of its input to zero.The flatten layer simply converts the 3-D input to 1-D.**\n",
    "\t\n",
    "\n",
    "**Finally, we have a dropout layer & the fully connected layer.**\n",
    "\t\n",
    "\t\n",
    "\t\n",
    "**In general, there is an activation function & the final layer uses Softmax activation.**\n",
    "\t\n",
    "\n",
    "\n",
    "**Also, we use an ADAM optimizer used to perform the weights update.**"
   ]
  },
  {
   "cell_type": "markdown",
   "metadata": {
    "id": "WzJXSdEdOyh7"
   },
   "source": [
    "## Question 2"
   ]
  },
  {
   "cell_type": "markdown",
   "metadata": {
    "id": "s1cSExV2TXIc"
   },
   "source": [
    "Random dropout is used to regularize fully connect layers and avoid overfitting of neural networks. If the dropout rate is 0.2, describing how the\n",
    "dropout connection performed in training and testing (backward and forward)?"
   ]
  },
  {
   "cell_type": "markdown",
   "metadata": {
    "id": "Xn-x96tzO0gL"
   },
   "source": [
    "### Answer 2"
   ]
  },
  {
   "cell_type": "markdown",
   "metadata": {
    "id": "ovGCfTnNcz-S"
   },
   "source": [
    "**When the dropout set to 0.2, that means in the forward propagation, 20 percent of the input data are zeroed. When backward propagation, only 80% neutrons in that layer are usable, since 20% are killed.**"
   ]
  }
 ],
 "metadata": {
  "accelerator": "GPU",
  "colab": {
   "collapsed_sections": [],
   "name": "NN-Homework1",
   "provenance": [],
   "toc_visible": true
  },
  "kernelspec": {
   "display_name": "Python 3",
   "name": "python3"
  }
 },
 "nbformat": 4,
 "nbformat_minor": 0
}
