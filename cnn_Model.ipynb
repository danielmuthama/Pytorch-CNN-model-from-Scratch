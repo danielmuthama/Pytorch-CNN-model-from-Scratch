{
 "cells": [
  {
   "cell_type": "markdown",
   "metadata": {
    "id": "Bcp3FnWD9qy-"
   },
   "source": [
    "# CNN using PyTorch"
   ]
  },
  {
   "cell_type": "markdown",
   "metadata": {
    "id": "wBY2k5_vLr0f"
   },
   "source": [
    "## Libraries used:"
   ]
  },
  {
   "cell_type": "code",
   "execution_count": 155,
   "metadata": {
    "id": "JnlIIiNOLvEC"
   },
   "outputs": [],
   "source": [
    "import torch\n",
    "import torch.nn as nn\n",
    "from torch.autograd import Variable\n",
    "import torch.nn.functional as F\n",
    "\n",
    "import torchvision\n",
    "from torch.utils.data import Dataset, DataLoader\n",
    "import torchvision.transforms as transforms\n",
    "\n",
    "import matplotlib.pyplot as plt"
   ]
  },
  {
   "cell_type": "markdown",
   "metadata": {
    "id": "kb1yEpm7LxBv"
   },
   "source": [
    "## 2.1 Loading the FashionMNIST dataset"
   ]
  },
  {
   "cell_type": "markdown",
   "metadata": {
    "id": "LovN94yvLs4n"
   },
   "source": [
    "#### Download the dataset"
   ]
  },
  {
   "cell_type": "code",
   "execution_count": 156,
   "metadata": {
    "id": "CwtkrnS6MJ6c"
   },
   "outputs": [],
   "source": [
    "trainSet = torchvision.datasets.FashionMNIST(root='./data', train=True, download=True, \n",
    "                                      transform=transforms.ToTensor())\n",
    "testSet = torchvision.datasets.FashionMNIST(root='./data', train=False, download=True,\n",
    "                                      transform=transforms.ToTensor())"
   ]
  },
  {
   "cell_type": "markdown",
   "metadata": {
    "id": "1lF8meT2MPDQ"
   },
   "source": [
    "Make sure you turn on the GPU in Runtime setting, for a better performance."
   ]
  },
  {
   "cell_type": "code",
   "execution_count": 157,
   "metadata": {
    "id": "DOeL0bvpMQ5j"
   },
   "outputs": [],
   "source": [
    "device = torch.device(\"cuda:0\" if torch.cuda.is_available() else \"cpu\")"
   ]
  },
  {
   "cell_type": "markdown",
   "metadata": {
    "id": "8nnCFXRpMWov"
   },
   "source": [
    "#### Get the train/test loader using DataLoader"
   ]
  },
  {
   "cell_type": "markdown",
   "metadata": {
    "id": "KluN2Rv9MpN_"
   },
   "source": [
    " With batch size --> 100, and Shuffle is TRUE."
   ]
  },
  {
   "cell_type": "code",
   "execution_count": 158,
   "metadata": {
    "id": "P8RJJsjvMT7f"
   },
   "outputs": [],
   "source": [
    "trainLoader = torch.utils.data.DataLoader(trainSet,batch_size=100,shuffle=True)\n",
    "testLoader = torch.utils.data.DataLoader(testSet,batch_size=100,shuffle=True)"
   ]
  },
  {
   "cell_type": "markdown",
   "metadata": {
    "id": "ICU1hjiYMS3K"
   },
   "source": [
    "#### Creating a method to name the class for the label. "
   ]
  },
  {
   "cell_type": "markdown",
   "metadata": {
    "id": "8IvbYoYuMfJH"
   },
   "source": [
    "example: 9 --> Ankle Boot"
   ]
  },
  {
   "cell_type": "code",
   "execution_count": 159,
   "metadata": {
    "id": "Y7Oj2g1RMcu1"
   },
   "outputs": [],
   "source": [
    "def outputLabel(label):\n",
    "    outputMapping = {\n",
    "                 0: \"T-shirt/Top\",\n",
    "                 1: \"Trouser\",\n",
    "                 2: \"Pullover\",\n",
    "                 3: \"Dress\",\n",
    "                 4: \"Coat\", \n",
    "                 5: \"Sandal\", \n",
    "                 6: \"Shirt\",\n",
    "                 7: \"Sneaker\",\n",
    "                 8: \"Bag\",\n",
    "                 9: \"Ankle Boot\"\n",
    "                 }\n",
    "    input = (label.item() if type(label) == torch.Tensor else label)\n",
    "    return outputMapping[input]"
   ]
  },
  {
   "cell_type": "markdown",
   "metadata": {
    "id": "AV5pxe4vMmcf"
   },
   "source": [
    "#### To show a data using matplotlib :"
   ]
  },
  {
   "cell_type": "code",
   "execution_count": 160,
   "metadata": {
    "colab": {
     "base_uri": "https://localhost:8080/",
     "height": 282
    },
    "id": "jZKW9Wt2Mvup",
    "outputId": "1452f1e5-ea34-4237-b370-114ce43d1b1d"
   },
   "outputs": [
    {
     "name": "stdout",
     "output_type": "stream",
     "text": [
      "9\n"
     ]
    },
    {
     "data": {
      "image/png": "[encoded data removed]",
      "text/plain": [
       "<Figure size 432x288 with 1 Axes>"
      ]
     },
     "metadata": {
      "needs_background": "light",
      "tags": []
     },
     "output_type": "display_data"
    }
   ],
   "source": [
    "image, label = next(iter(trainSet))\n",
    "plt.imshow(image.squeeze(), cmap=\"gray\")\n",
    "print(label)"
   ]
  },
  {
   "cell_type": "markdown",
   "metadata": {
    "id": "0DjPZOiYMzIR"
   },
   "source": [
    "## 2.2 Implementing the Network"
   ]
  },
  {
   "cell_type": "markdown",
   "metadata": {
    "id": "KgeP1KJhM1X3"
   },
   "source": [
    "### Building the CNN class:\n",
    "#### Model Class Name: FashionCNN\n",
    "#### Layers: 2 sequential layers consist of:\n",
    "             *  Convolution layer with kernal -> 3*3, padding = 1 (1st layer) & padding = 0 (2nd layer).\n",
    "             *  Stride of 1 in both the layer\n",
    "             *  Activation function: Relu\n",
    "             *  All the functionaltiy is given in forward method that defines the forward pass of CNN.\n",
    "             *  Output:\n",
    "                     1.  1st Conv later:    input: 28 * 28 * 3   and  Output : 28 * 28 * 32.\n",
    "                     2.  Max pooling layer: input: 28 * 28 * 32  and Output:  14 * 14 * 32.\n",
    "                     3.  2nd Conv layer:    input : 14 * 14 * 32 and output: 12 * 12 * 64\n",
    "                     4.  2nd Max Pooling layer : 12 * 12 * 64, output: 6 * 6 * 64.\n",
    "\n",
    "#### At last fully connected layer has 10 output features for 10 types of clothes.\n"
   ]
  },
  {
   "cell_type": "code",
   "execution_count": 161,
   "metadata": {
    "id": "RI7FlJM9M6hj"
   },
   "outputs": [],
   "source": [
    "class NeuralNetwork(nn.Module):\n",
    "    \n",
    "    def __init__(self):\n",
    "        super(NeuralNetwork, self).__init__()\n",
    "        \n",
    "        self.layer1 = nn.Sequential(\n",
    "            nn.Conv2d(in_channels=1, out_channels=32, kernel_size=3, padding=1),\n",
    "            nn.BatchNorm2d(32),\n",
    "            nn.ReLU(),\n",
    "            nn.MaxPool2d(kernel_size=2, stride=2)\n",
    "        )\n",
    "        \n",
    "        self.layer2 = nn.Sequential(\n",
    "            nn.Conv2d(in_channels=32, out_channels=64, kernel_size=3),\n",
    "            nn.BatchNorm2d(64),\n",
    "            nn.ReLU(),\n",
    "            nn.MaxPool2d(2)\n",
    "        )\n",
    "        \n",
    "        self.fc1 = nn.Linear(in_features=64*6*6, out_features=600)\n",
    "        self.drop = nn.Dropout2d(0.25)\n",
    "        self.fc2 = nn.Linear(in_features=600, out_features=120)\n",
    "        self.fc3 = nn.Linear(in_features=120, out_features=10)\n",
    "        \n",
    "    def forward(self, x):\n",
    "        out = self.layer1(x)\n",
    "        out = self.layer2(out)\n",
    "        out = out.view(out.size(0), -1)\n",
    "        out = self.fc1(out)\n",
    "        out = self.drop(out)\n",
    "        out = self.fc2(out)\n",
    "        out = self.fc3(out)\n",
    "        \n",
    "        return out"
   ]
  },
  {
   "cell_type": "markdown",
   "metadata": {
    "id": "nXAcqC1VNKK8"
   },
   "source": [
    "### Define CNN by using different architecture to construct model"
   ]
  },
  {
   "cell_type": "markdown",
   "metadata": {
    "id": "8KJXPKP9NMNF"
   },
   "source": [
    "Take a look of the chosen model:"
   ]
  },
  {
   "cell_type": "code",
   "execution_count": null,
   "metadata": {},
   "outputs": [],
   "source": [
    "model = NeuralNetwork()\n",
    "model.to(device)\n",
    "#print(model)"
   ]
  },
  {
   "cell_type": "markdown",
   "metadata": {
    "id": "7QILrMjlNUQr"
   },
   "source": [
    "Firstly, define the learnin rate:"
   ]
  },
  {
   "cell_type": "code",
   "execution_count": 163,
   "metadata": {
    "id": "7GI_6p1NNVsS"
   },
   "outputs": [],
   "source": [
    "learningRate = 0.001"
   ]
  },
  {
   "cell_type": "markdown",
   "metadata": {
    "id": "LTV7zeedNXKy"
   },
   "source": [
    "Secondly, choose the optimizer in torch. First one we used, is ADAM:"
   ]
  },
  {
   "cell_type": "code",
   "execution_count": 149,
   "metadata": {
    "id": "pSb3F6OHNaAa"
   },
   "outputs": [],
   "source": [
    "optimizer = torch.optim.Adam(model.parameters(), lr=learningRate)"
   ]
  },
  {
   "cell_type": "markdown",
   "metadata": {
    "id": "rQMP3lJcNZNI"
   },
   "source": [
    "The second optimizer we used is SGD:\n",
    "\n",
    "(Note, you only need to run either the code above or the following one."
   ]
  },
  {
   "cell_type": "code",
   "execution_count": 164,
   "metadata": {
    "id": "_v6wSzKFNdK8"
   },
   "outputs": [],
   "source": [
    "optimizer = torch.optim.SGD(model.parameters(), lr=learningRate, momentum=0.9)"
   ]
  },
  {
   "cell_type": "markdown",
   "metadata": {
    "id": "SQOyornCNfKY"
   },
   "source": [
    "## 2.3 Predicting\n"
   ]
  },
  {
   "cell_type": "markdown",
   "metadata": {
    "id": "fss0D2SXNhSa"
   },
   "source": [
    "Let us start training the network with chosen architecture and optimizer, then test it on the testing dataset"
   ]
  },
  {
   "cell_type": "code",
   "execution_count": 165,
   "metadata": {
    "colab": {
     "base_uri": "https://localhost:8080/",
     "height": 323
    },
    "id": "7MCZJgwtNje2",
    "outputId": "e2fc726d-88d2-4c3a-e1fd-f8f0aab7e843"
   },
   "outputs": [
    {
     "name": "stdout",
     "output_type": "stream",
     "text": [
      "Iteration: 500, Loss: 0.265, Accuracy: 86.36%\n",
      "Iteration: 1000, Loss: 0.150, Accuracy: 88.40%\n",
      "Iteration: 1500, Loss: 0.326, Accuracy: 89.72%\n",
      "Iteration: 2000, Loss: 0.320, Accuracy: 90.50%\n",
      "Iteration: 2500, Loss: 0.191, Accuracy: 90.32%\n",
      "Iteration: 3000, Loss: 0.261, Accuracy: 90.05%\n",
      "Iteration: 3500, Loss: 0.337, Accuracy: 90.77%\n",
      "Iteration: 4000, Loss: 0.233, Accuracy: 90.64%\n",
      "Iteration: 4500, Loss: 0.222, Accuracy: 90.64%\n",
      "Iteration: 5000, Loss: 0.110, Accuracy: 90.47%\n",
      "Iteration: 5500, Loss: 0.135, Accuracy: 91.72%\n",
      "Iteration: 6000, Loss: 0.142, Accuracy: 90.32%\n",
      "Iteration: 6500, Loss: 0.182, Accuracy: 90.73%\n",
      "Iteration: 7000, Loss: 0.185, Accuracy: 91.04%\n",
      "Iteration: 7500, Loss: 0.140, Accuracy: 91.18%\n",
      "Iteration: 8000, Loss: 0.127, Accuracy: 90.62%\n",
      "Iteration: 8500, Loss: 0.084, Accuracy: 91.31%\n",
      "Iteration: 9000, Loss: 0.085, Accuracy: 91.31%\n"
     ]
    }
   ],
   "source": [
    "error = nn.CrossEntropyLoss()\n",
    "numEpochs = 15\n",
    "count = 0\n",
    "# Lists for visualization of loss and accuracy \n",
    "lossList = []\n",
    "iterationList = []\n",
    "accuracyList = []\n",
    "\n",
    "# List classwise accuracy\n",
    "predictionsList = []\n",
    "labelsList = []\n",
    "\n",
    "for epoch in range(numEpochs):\n",
    "    for images, labels in trainLoader:\n",
    "        # Transfering the images and labels to GPU(if available)\n",
    "        images, labels = images.to(device), labels.to(device)\n",
    "    \n",
    "        train = Variable(images.view(100, 1, 28, 28))\n",
    "        labels = Variable(labels)\n",
    "        \n",
    "        # Here is --> Forward pass \n",
    "        outputs = model(train)\n",
    "        loss = error(outputs, labels)\n",
    "        \n",
    "        # Initializing a gradient as 0 so there is no mixing of gradient among the batches\n",
    "        optimizer.zero_grad()\n",
    "        \n",
    "        #Propagating the error backward\n",
    "        loss.backward()\n",
    "        \n",
    "        # Optimizing the parameters (Adam Algorithm)\n",
    "        optimizer.step()\n",
    "    \n",
    "        count += 1\n",
    "    \n",
    "    # Let us start testing the model:\n",
    "    \n",
    "        if not (count % 50):    \n",
    "            total = 0\n",
    "            correct = 0\n",
    "        \n",
    "            for images, labels in testLoader:\n",
    "                images, labels = images.to(device), labels.to(device)\n",
    "                labelsList.append(labels)\n",
    "            \n",
    "                test = Variable(images.view(100, 1, 28, 28))\n",
    "            \n",
    "                outputs = model(test)\n",
    "            \n",
    "                predictions = torch.max(outputs, 1)[1].to(device)\n",
    "                predictionsList.append(predictions)\n",
    "                correct += (predictions == labels).sum()\n",
    "            \n",
    "                total += len(labels)\n",
    "            accuracy = correct * 1.0 / total\n",
    "            lossList.append(loss.data)\n",
    "            iterationList.append(count)\n",
    "            accuracyList.append(accuracy)\n",
    "        \n",
    "        if not (count % 500):\n",
    "            print(\"Iteration: {}, Loss: {:.3f}, Accuracy: {:.2%}\".format(count, loss.data, accuracy))"
   ]
  },
  {
   "cell_type": "markdown",
   "metadata": {
    "id": "03Sd51LiROlL"
   },
   "source": [
    "Plot the loss in iterations:"
   ]
  },
  {
   "cell_type": "code",
   "execution_count": 168,
   "metadata": {
    "colab": {
     "base_uri": "https://localhost:8080/",
     "height": 279
    },
    "id": "C4v2LBefRU6Q",
    "outputId": "a23dc5f2-ee93-452e-9afd-78f3ea56e312"
   },
   "outputs": [
    {
     "data": {
      "image/png": "[encoded data removed]",
      "text/plain": [
       "<Figure size 432x288 with 1 Axes>"
      ]
     },
     "metadata": {
      "needs_background": "light",
      "tags": []
     },
     "output_type": "display_data"
    }
   ],
   "source": [
    "plt.plot(iterationList, lossList)\n",
    "plt.xlabel(\"Iterations\")\n",
    "plt.ylabel(\"Loss\")\n",
    "plt.show()"
   ]
  },
  {
   "cell_type": "markdown",
   "metadata": {
    "id": "JJvetEqsRgZo"
   },
   "source": [
    "Plot the accuracy in iterations:"
   ]
  },
  {
   "cell_type": "code",
   "execution_count": 169,
   "metadata": {
    "colab": {
     "base_uri": "https://localhost:8080/",
     "height": 279
    },
    "id": "l1mgPykLSkUg",
    "outputId": "d50890bd-6912-4096-a968-5dec4fe9d07d"
   },
   "outputs": [
    {
     "data": {
      "image/png": "[encoded data removed]",
      "text/plain": [
       "<Figure size 432x288 with 1 Axes>"
      ]
     },
     "metadata": {
      "needs_background": "light",
      "tags": []
     },
     "output_type": "display_data"
    }
   ],
   "source": [
    "plt.plot(iterationList, accuracyList)\n",
    "plt.xlabel(\"Iterations\")\n",
    "plt.ylabel(\"Accuracy\")\n",
    "plt.show()"
   ]
  },
  {
   "cell_type": "markdown",
   "metadata": {
    "id": "pXf8tuzYNmc-"
   },
   "source": [
    "### Test"
   ]
  },
  {
   "cell_type": "code",
   "execution_count": 170,
   "metadata": {
    "colab": {
     "base_uri": "https://localhost:8080/",
     "height": 34
    },
    "id": "XT7qDhplNoSc",
    "outputId": "424a91a2-236b-47fc-c346-c4895a74050c"
   },
   "outputs": [
    {
     "name": "stdout",
     "output_type": "stream",
     "text": [
      "Test set accuracy: 91.46%\n"
     ]
    }
   ],
   "source": [
    "model.eval()\n",
    "correct = 0\n",
    "for images, labels in testLoader:\n",
    "    with torch.no_grad(): # so that computation graph history is not stored\n",
    "        images, labels = images.to(device), labels.to(device) # send tensors to GPU\n",
    "        outputs = model(images)\n",
    "        predictions = outputs.data.max(1)[1]\n",
    "        correct += predictions.eq(labels.data).sum()\n",
    "        \n",
    "print('Test set accuracy: {:.2f}%'.format(100.0 * correct / len(testLoader.dataset)))"
   ]
  },
  {
   "cell_type": "markdown",
   "metadata": {
    "id": "C5Gqkt8kNqYE"
   },
   "source": [
    "Auxillary: Getting the accuracy with respect to each classification in the MINST Dataset"
   ]
  },
  {
   "cell_type": "code",
   "execution_count": 171,
   "metadata": {
    "colab": {
     "base_uri": "https://localhost:8080/",
     "height": 187
    },
    "id": "eCqmu5elNsBR",
    "outputId": "6481aa91-3c3e-420e-b6af-4844b09f5aad"
   },
   "outputs": [
    {
     "name": "stdout",
     "output_type": "stream",
     "text": [
      "Accuracy of T-shirt/Top: 82.40%\n",
      "Accuracy of Trouser: 98.50%\n",
      "Accuracy of Pullover: 84.60%\n",
      "Accuracy of Dress: 93.90%\n",
      "Accuracy of Coat: 87.10%\n",
      "Accuracy of Sandal: 98.00%\n",
      "Accuracy of Shirt: 77.60%\n",
      "Accuracy of Sneaker: 97.80%\n",
      "Accuracy of Bag: 97.60%\n",
      "Accuracy of Ankle Boot: 97.10%\n"
     ]
    }
   ],
   "source": [
    "classCorrect = [0. for _ in range(10)]\n",
    "totalCorrect = [0. for _ in range(10)]\n",
    "\n",
    "with torch.no_grad():\n",
    "    for images, labels in testLoader:\n",
    "        images, labels = images.to(device), labels.to(device)\n",
    "        test = Variable(images)\n",
    "        outputs = model(test)\n",
    "        predicted = torch.max(outputs, 1)[1]\n",
    "        c = (predicted == labels).squeeze()\n",
    "        \n",
    "        for i in range(100):\n",
    "            label = labels[i]\n",
    "            classCorrect[label] += c[i].item()\n",
    "            totalCorrect[label] += 1\n",
    "        \n",
    "for i in range(10):\n",
    "    print(\"Accuracy of {}: {:.2f}%\".format(outputLabel(i), classCorrect[i] * 100 / totalCorrect[i]))"
   ]
  },
  {
   "cell_type": "markdown",
   "metadata": {
    "id": "VnTMTq00cJyN"
   },
   "source": [
    "Among 10 categories, Bag has the highest prediction accuracy, and Shirt has the lowest."
   ]
  },
  {
   "cell_type": "code",
   "execution_count": null,
   "metadata": {},
   "outputs": [],
   "source": [
    "def train(dataloader, model, error, optimizer):\n",
    "    size = len(dataloader.dataset)\n",
    "    model.train() #to know the size of the model i have\n",
    "    for batch, (X,y) in enumerate(dataloader):\n",
    "        X,y = X.to(device), y.to(device)\n",
    "        pred = model(X)\n",
    "        loss = error(pred,y)#calculate loss function(predicted, actual)\n",
    "        optimizer.zero_grad()\n",
    "        loss.backward()\n",
    "        optimizer.step()\n",
    "        if batch % 100 == 0:\n",
    "            loss, current = loss.item(), batch * len(X)\n",
    "            #print(\"Loss \", loss, \" Current \", batch, \" of \", size/64)\n",
    "\n",
    "def test(dataloader, model, error):\n",
    "    size = len(dataloader.dataset) \n",
    "    num_batches = len(dataloader)\n",
    "    model.eval()\n",
    "    test_loss, correct = 0, 0\n",
    "    with torch.no_grad():\n",
    "        for X, y in dataloader:\n",
    "            X, y = X.to(device), y.to(device)\n",
    "            pred = model(X)\n",
    "            test_loss += error(pred, y).item()\n",
    "            correct += (pred.argmax(1) == y).type(torch.float).sum().item()\n",
    "        test_loss /= num_batches\n",
    "        correct /= size\n",
    "        #print(\"Accuracy \", 100*correct, \" % \""
   ]
  },
  {
   "cell_type": "code",
   "execution_count": null,
   "metadata": {},
   "outputs": [],
   "source": [
    "epoches=1\n",
    "for t in range(epoches):\n",
    "    train(trainLoader, model, error, optimizer)\n",
    "    test(testLoader, model, error)\n"
   ]
  },
  {
   "cell_type": "code",
   "execution_count": null,
   "metadata": {},
   "outputs": [],
   "source": [
    "### Method to predict using the model\n",
    "\n",
    "\n",
    "def pred_image(images, model):\n",
    "    xb = to_device(image.unsqueeze(0), device)l\n",
    "    yb = model(xb)\n",
    "    _, preds  = torch.max(yb, dim=1)\n",
    "    return dataset.classes[preds[0].item()]\n",
    "\n",
    "\n",
    "images, labels = testSet[0]\n",
    "print('Predicted:', pred_image(images, model),' Actual:', dataset.classes[label])"
   ]
  },
  {
   "cell_type": "markdown",
   "metadata": {},
   "source": [
    "Predicted: Trouser  Actual: Dress"
   ]
  },
  {
   "cell_type": "markdown",
   "metadata": {},
   "source": [
    "### Performance metrics"
   ]
  },
  {
   "cell_type": "code",
   "execution_count": null,
   "metadata": {},
   "outputs": [],
   "source": [
    "actual=[]\n",
    "predicted=[]\n",
    "\n",
    "for i in range(10):\n",
    "    images, labels = testSet[i]\n",
    "    a=dataset.classes[labels]\n",
    "    b=predict_image(images, model)\n",
    "    if a == 'T-shirt/Top':\n",
    "        actual.append(1)\n",
    "    elif a == 'Trouser':\n",
    "        actual.append(2)\n",
    "    elif a == 'Pullover':\n",
    "        actual.append(3)\n",
    "    elif a == 'Dress':\n",
    "        actual.append(4)\n",
    "    elif a == 'Coat':\n",
    "        actual.append(5)\n",
    "    elif a == 'Sandal':\n",
    "        actual.append(6)\n",
    "    elif a == 'Shirt':\n",
    "        actual.append(7)\n",
    "    elif a == 'Sneaker':\n",
    "        actual.append(8)\n",
    "    elif a == 'Bag':\n",
    "        actual.append(9)\n",
    "    else:\n",
    "        actual.append(10)\n",
    "        \n",
    "    if a == 'T-shirt/Top':\n",
    "        predicted.append(1)\n",
    "    elif a == 'Trouser':\n",
    "        predicted.append(2)\n",
    "    elif a == 'Pullover':\n",
    "        predicted.append(3)\n",
    "    elif a == 'Dress':\n",
    "        predicted.append(4)\n",
    "    elif a == 'Coat':\n",
    "        predicted.append(5)\n",
    "    elif a == 'Sandal':\n",
    "        predicted.append(6)\n",
    "    elif a == 'Shirt':\n",
    "        Predicted.append(7)\n",
    "    elif a == 'Sneaker':\n",
    "        predicted.append(8)\n",
    "    elif a == 'Bag':\n",
    "        predicted.append(9)\n",
    "    else:\n",
    "        predicted.append(10)\n",
    "\n"
   ]
  },
  {
   "cell_type": "markdown",
   "metadata": {},
   "source": [
    "### Performance Metrics\n"
   ]
  },
  {
   "cell_type": "code",
   "execution_count": null,
   "metadata": {},
   "outputs": [],
   "source": [
    "from torchmetrics import Accuracy\n",
    "from torchmetrics.functional import auc\n",
    "from torchmetrics import Precision\n",
    "from torchmetrics import Recall\n",
    "from torchmetrics import ROC\n",
    "\n",
    "real = torch.tensor(actual)\n",
    "predicted = torch.tensor(predicted)\n",
    "accuracy = Accuracy()\n",
    "x=accuracy(predicted, real)\n",
    "print(\"The Accuracy is :\",accuracy(predicted, real).item())\n",
    "print(\"The AUC is :\",auc(predicted, real).item())\n",
    "precision = Precision()\n",
    "print(\"The Precision is :\",precision(predicted, real).item())\n",
    "recall = Recall()\n",
    "print(\"The Precision is :\",recall(predicted, real).item())\n",
    "roc = ROC(pos_label=1)\n",
    "fpr, tpr, thresholds = roc(predicted, real)\n",
    "print(\"The ROC is :\",recall(predicted, real).item())\n",
    "print(\"The TPR is :\",tpr.tolist())\n",
    "print(\"The FPR is :\",fpr.tolist())\n",
    "\n"
   ]
  },
  {
   "cell_type": "markdown",
   "metadata": {},
   "source": [
    "The Accuracy is : 0.0\n",
    "\n",
    "The AUC is : 0.0\n",
    "\n",
    "The Precision is : 1.0\n",
    "\n",
    "The Precision is : 0.0\n",
    "\n",
    "The ROC is : 1.0\n",
    "\n",
    "The TPR is : [0, 0]\n",
    "\n",
    "The FPR is : [0.0, 1.0]"
   ]
  },
  {
   "cell_type": "markdown",
   "metadata": {
    "id": "69huYurXNuSO"
   },
   "source": [
    "### Conclusion"
   ]
  },
  {
   "cell_type": "markdown",
   "metadata": {
    "id": "zOYytVZ4NxXC"
   },
   "source": [
    "The CNN Architecture defined according to the experiment, has a little bit more smooth loss curve and more stable. For the Architecture, ADAM predicts the accuracy faster. Although, SGD is more stable in loss calculation.\n"
   ]
  },
  {
   "cell_type": "markdown",
   "metadata": {
    "id": "9hQY7anoN10v"
   },
   "source": [
    "\n"
   ]
  }
 ],
 "metadata": {
  "accelerator": "GPU",
  "colab": {
   "collapsed_sections": [],
   "name": "NN-Homework1",
   "provenance": [],
   "toc_visible": true
  },
  "kernelspec": {
   "display_name": "Python 3 (ipykernel)",
   "language": "python",
   "name": "python3"
  },
  "language_info": {
   "codemirror_mode": {
    "name": "ipython",
    "version": 3
   },
   "file_extension": ".py",
   "mimetype": "text/x-python",
   "name": "python",
   "nbconvert_exporter": "python",
   "pygments_lexer": "ipython3",
   "version": "3.10.6"
  }
 },
 "nbformat": 4,
 "nbformat_minor": 1
}
